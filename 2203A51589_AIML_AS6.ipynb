{
  "nbformat": 4,
  "nbformat_minor": 0,
  "metadata": {
    "colab": {
      "provenance": []
    },
    "kernelspec": {
      "name": "python3",
      "display_name": "Python 3"
    },
    "language_info": {
      "name": "python"
    }
  },
  "cells": [
    {
      "cell_type": "code",
      "source": [
        "import pandas as pd\n",
        "data = pd.read_csv(\"/content/train.csv\")\n",
        "target_variable = \"price_range\"\n",
        "features = data.drop(columns=[target_variable])\n",
        "print(\"Features:\")\n",
        "print(features.head())\n",
        "print(\"\\nTarget Variable:\")\n",
        "print(data[target_variable].head())"
      ],
      "metadata": {
        "colab": {
          "base_uri": "https://localhost:8080/"
        },
        "id": "i__qnrF9LvoD",
        "outputId": "df8e7e4a-a923-4af6-e60b-c3259794db1d"
      },
      "execution_count": 4,
      "outputs": [
        {
          "output_type": "stream",
          "name": "stdout",
          "text": [
            "Features:\n",
            "   battery_power  blue  clock_speed  dual_sim  fc  four_g  int_memory  m_dep  \\\n",
            "0            842     0          2.2         0   1       0           7    0.6   \n",
            "1           1021     1          0.5         1   0       1          53    0.7   \n",
            "2            563     1          0.5         1   2       1          41    0.9   \n",
            "3            615     1          2.5         0   0       0          10    0.8   \n",
            "4           1821     1          1.2         0  13       1          44    0.6   \n",
            "\n",
            "   mobile_wt  n_cores  pc  px_height  px_width   ram  sc_h  sc_w  talk_time  \\\n",
            "0        188        2   2         20       756  2549     9     7         19   \n",
            "1        136        3   6        905      1988  2631    17     3          7   \n",
            "2        145        5   6       1263      1716  2603    11     2          9   \n",
            "3        131        6   9       1216      1786  2769    16     8         11   \n",
            "4        141        2  14       1208      1212  1411     8     2         15   \n",
            "\n",
            "   three_g  touch_screen  wifi  \n",
            "0        0             0     1  \n",
            "1        1             1     0  \n",
            "2        1             1     0  \n",
            "3        1             0     0  \n",
            "4        1             1     0  \n",
            "\n",
            "Target Variable:\n",
            "0    1\n",
            "1    2\n",
            "2    2\n",
            "3    2\n",
            "4    1\n",
            "Name: price_range, dtype: int64\n"
          ]
        }
      ]
    },
    {
      "cell_type": "code",
      "source": [
        "from sklearn.preprocessing import MinMaxScaler\n",
        "\n",
        "\n",
        "scaler = MinMaxScaler()\n",
        "normalized_features = scaler.fit_transform(features)\n",
        "\n",
        "\n",
        "print(\"Normalized Features:\")\n",
        "print(normalized_features[:5])"
      ],
      "metadata": {
        "colab": {
          "base_uri": "https://localhost:8080/"
        },
        "id": "fHGYTxv5O6wz",
        "outputId": "6e90a97c-ef55-428a-80e6-9bf06da9f0e5"
      },
      "execution_count": 15,
      "outputs": [
        {
          "output_type": "stream",
          "name": "stdout",
          "text": [
            "Normalized Features:\n",
            "[[0.22778891 0.         0.68       0.         0.05263158 0.\n",
            "  0.08064516 0.55555556 0.9        0.14285714 0.1        0.01020408\n",
            "  0.17089453 0.61277392 0.28571429 0.38888889 0.94444444 0.\n",
            "  0.         1.        ]\n",
            " [0.34736139 1.         0.         1.         0.         1.\n",
            "  0.82258065 0.66666667 0.46666667 0.28571429 0.3        0.46173469\n",
            "  0.99332443 0.63468733 0.85714286 0.16666667 0.27777778 1.\n",
            "  1.         0.        ]\n",
            " [0.04141617 1.         0.         1.         0.10526316 1.\n",
            "  0.62903226 0.88888889 0.54166667 0.57142857 0.3        0.64438776\n",
            "  0.811749   0.6272047  0.42857143 0.11111111 0.38888889 1.\n",
            "  1.         0.        ]\n",
            " [0.0761523  1.         0.8        0.         0.         0.\n",
            "  0.12903226 0.77777778 0.425      0.71428571 0.45       0.62040816\n",
            "  0.85847797 0.67156601 0.78571429 0.44444444 0.5        1.\n",
            "  0.         0.        ]\n",
            " [0.88176353 1.         0.28       0.         0.68421053 1.\n",
            "  0.67741935 0.55555556 0.50833333 0.14285714 0.7        0.61632653\n",
            "  0.4753004  0.30865847 0.21428571 0.11111111 0.72222222 1.\n",
            "  1.         0.        ]]\n"
          ]
        }
      ]
    },
    {
      "cell_type": "code",
      "source": [
        "from sklearn.model_selection import train_test_split\n",
        "\n",
        "# Splitting the data\n",
        "X_train, X_test, y_train, y_test = train_test_split(X_scaled, y, test_size=0.2, random_state=42)\n",
        "print(f\"Train data shape: X_train={X_train.shape}, y_train={y_train.shape}\")\n",
        "print(f\"Test data shape: X_test={X_test.shape}, y_test={y_test.shape}\")\n",
        "\n"
      ],
      "metadata": {
        "colab": {
          "base_uri": "https://localhost:8080/"
        },
        "id": "lEV2UNoTPbcA",
        "outputId": "3ff099e9-4cfc-412a-8bed-1f2d5cf5e797"
      },
      "execution_count": 18,
      "outputs": [
        {
          "output_type": "stream",
          "name": "stdout",
          "text": [
            "Train data shape: X_train=(1600, 20), y_train=(1600,)\n",
            "Test data shape: X_test=(400, 20), y_test=(400,)\n"
          ]
        }
      ]
    },
    {
      "cell_type": "code",
      "source": [
        "import pandas as pd\n",
        "import numpy as np\n",
        "from sklearn.model_selection import train_test_split\n",
        "from sklearn.linear_model import LogisticRegression\n",
        "from sklearn.metrics import accuracy_score, precision_score, recall_score, confusion_matrix"
      ],
      "metadata": {
        "id": "xlrEYI7oR1cp"
      },
      "execution_count": 21,
      "outputs": []
    },
    {
      "cell_type": "code",
      "source": [
        "df = pd.read_csv('/content/train.csv')"
      ],
      "metadata": {
        "id": "TmaDm827R1fJ"
      },
      "execution_count": 22,
      "outputs": []
    },
    {
      "cell_type": "code",
      "source": [
        "X = df.drop('price_range', axis=1)\n",
        "y = df['price_range']"
      ],
      "metadata": {
        "id": "_3Co0q50R1hS"
      },
      "execution_count": 23,
      "outputs": []
    },
    {
      "cell_type": "code",
      "source": [
        "X_train, X_test, y_train, y_test = train_test_split(X, y, test_size=0.2, random_state=42)"
      ],
      "metadata": {
        "id": "-ra0vf2PR1jO"
      },
      "execution_count": 24,
      "outputs": []
    },
    {
      "cell_type": "code",
      "source": [
        "model = LogisticRegression()\n"
      ],
      "metadata": {
        "id": "0YQ24O5MR1ld"
      },
      "execution_count": 25,
      "outputs": []
    },
    {
      "cell_type": "code",
      "source": [
        "y_pred = model.predict(X_test)"
      ],
      "metadata": {
        "id": "_ptjXhJ1R1qA"
      },
      "execution_count": 29,
      "outputs": []
    },
    {
      "cell_type": "code",
      "source": [
        "accuracy = accuracy_score(y_test, y_pred)\n",
        "precision = precision_score(y_test, y_pred, average='weighted')\n",
        "recall = recall_score(y_test, y_pred, average='weighted')\n",
        "conf_matrix = confusion_matrix(y_test, y_pred)\n",
        "\n",
        "print(f\"Accuracy: {accuracy:.2f}\")\n",
        "print(f\"Precision: {precision:.2f}\")\n",
        "print(f\"Recall: {recall:.2f}\")\n",
        "print(\"Confusion Matrix:\")\n",
        "print(conf_matrix)\n"
      ],
      "metadata": {
        "colab": {
          "base_uri": "https://localhost:8080/"
        },
        "id": "-QSL9kkHR1sI",
        "outputId": "a81aeac4-2584-4c0a-bb19-5786da818578"
      },
      "execution_count": 28,
      "outputs": [
        {
          "output_type": "stream",
          "name": "stdout",
          "text": [
            "Accuracy: 0.63\n",
            "Precision: 0.64\n",
            "Recall: 0.63\n",
            "Confusion Matrix:\n",
            "[[79 25  1  0]\n",
            " [17 46 20  8]\n",
            " [ 0 17 46 29]\n",
            " [ 0  1 29 82]]\n"
          ]
        }
      ]
    }
  ]
}