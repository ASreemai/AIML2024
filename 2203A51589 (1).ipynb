{
  "nbformat": 4,
  "nbformat_minor": 0,
  "metadata": {
    "colab": {
      "provenance": []
    },
    "kernelspec": {
      "name": "python3",
      "display_name": "Python 3"
    },
    "language_info": {
      "name": "python"
    }
  },
  "cells": [
    {
      "cell_type": "code",
      "source": [],
      "metadata": {
        "id": "pjLlFhnhtBUY"
      },
      "execution_count": 11,
      "outputs": []
    },
    {
      "cell_type": "code",
      "source": [
        "import numpy as np\n",
        "import pandas as pd\n",
        "\n"
      ],
      "metadata": {
        "id": "DFYOfoo1xZxH"
      },
      "execution_count": 12,
      "outputs": []
    },
    {
      "cell_type": "code",
      "source": [
        "# 1. Creating Two Lists\n",
        "list1 = [1, 2, 3, 4, 5]\n",
        "list2 = [6, 7, 8, 9, 10]\n",
        "\n",
        "print(\"List 1:\", list1)\n",
        "print(\"List 2:\", list2)"
      ],
      "metadata": {
        "colab": {
          "base_uri": "https://localhost:8080/"
        },
        "id": "4CPrlFMCxcPn",
        "outputId": "23eb0976-13cf-410b-9e4f-6f0c3a6353db"
      },
      "execution_count": 9,
      "outputs": [
        {
          "output_type": "stream",
          "name": "stdout",
          "text": [
            "List 1: [1, 2, 3, 4, 5]\n",
            "List 2: [6, 7, 8, 9, 10]\n"
          ]
        }
      ]
    },
    {
      "cell_type": "code",
      "source": [
        "print(\"List 1 + List 2:\", list1+list2)"
      ],
      "metadata": {
        "colab": {
          "base_uri": "https://localhost:8080/"
        },
        "id": "ahi8uPROxeOE",
        "outputId": "dae8888e-5e86-4a5c-f630-af02c0e3db22"
      },
      "execution_count": 10,
      "outputs": [
        {
          "output_type": "stream",
          "name": "stdout",
          "text": [
            "List 1 + List 2: [1, 2, 3, 4, 5, 6, 7, 8, 9, 10]\n"
          ]
        }
      ]
    },
    {
      "cell_type": "code",
      "source": [
        "ar1=np.array(list1)\n",
        "ar2=np.array(list2)\n",
        "print(\"Array 1 + Array 2:\", ar1+ar2)"
      ],
      "metadata": {
        "colab": {
          "base_uri": "https://localhost:8080/"
        },
        "id": "GLiYfKlRxkJ9",
        "outputId": "cbae5856-4a6d-4c5c-ba41-f194531e830d"
      },
      "execution_count": 11,
      "outputs": [
        {
          "output_type": "stream",
          "name": "stdout",
          "text": [
            "Array 1 + Array 2: [ 7  9 11 13 15]\n"
          ]
        }
      ]
    },
    {
      "cell_type": "code",
      "source": [
        "print(\"Type of list1:\", type(list1))\n",
        "print(\"Type of array1:\", type(array1))"
      ],
      "metadata": {
        "colab": {
          "base_uri": "https://localhost:8080/"
        },
        "id": "pPhgxX2Sx338",
        "outputId": "f471576c-4900-4806-f314-623d68afe93f"
      },
      "execution_count": 13,
      "outputs": [
        {
          "output_type": "stream",
          "name": "stdout",
          "text": [
            "Type of list1: <class 'list'>\n",
            "Type of array1: <class 'numpy.ndarray'>\n"
          ]
        }
      ]
    },
    {
      "cell_type": "code",
      "source": [
        "product = array1 * array2\n",
        "print(\"Multiplication:\", product)"
      ],
      "metadata": {
        "colab": {
          "base_uri": "https://localhost:8080/"
        },
        "id": "MI_Fz6aG0c3R",
        "outputId": "b111f30e-aa31-4be9-f47e-c6e74a928278"
      },
      "execution_count": 14,
      "outputs": [
        {
          "output_type": "stream",
          "name": "stdout",
          "text": [
            "Multiplication: [ 6 14 24 36 50]\n"
          ]
        }
      ]
    },
    {
      "cell_type": "code",
      "source": [
        "division = array1 / array2\n",
        "print(\"Division:\", division)"
      ],
      "metadata": {
        "colab": {
          "base_uri": "https://localhost:8080/"
        },
        "id": "uDNhc6FD0h18",
        "outputId": "2f2c9736-0ce3-472e-e01b-9dae51d06195"
      },
      "execution_count": 15,
      "outputs": [
        {
          "output_type": "stream",
          "name": "stdout",
          "text": [
            "Division: [0.16666667 0.28571429 0.375      0.44444444 0.5       ]\n"
          ]
        }
      ]
    },
    {
      "cell_type": "code",
      "source": [
        "power = array1 ** 2\n",
        "print(\"Power:\", power)"
      ],
      "metadata": {
        "colab": {
          "base_uri": "https://localhost:8080/"
        },
        "id": "lPz7sI3l0xdV",
        "outputId": "5f5446b4-d565-477e-8b37-f1330a053f61"
      },
      "execution_count": 16,
      "outputs": [
        {
          "output_type": "stream",
          "name": "stdout",
          "text": [
            "Power: [ 1  4  9 16 25]\n"
          ]
        }
      ]
    },
    {
      "cell_type": "code",
      "source": [
        "print(\"Addition of Two: array1 + array2 =\", array1 + array2)"
      ],
      "metadata": {
        "colab": {
          "base_uri": "https://localhost:8080/"
        },
        "id": "SwcNhS2903p7",
        "outputId": "97fea1b7-b9f6-4b93-b4c5-8f3557d3dc88"
      },
      "execution_count": 17,
      "outputs": [
        {
          "output_type": "stream",
          "name": "stdout",
          "text": [
            "Addition of Two: array1 + array2 = [ 7  9 11 13 15]\n"
          ]
        }
      ]
    },
    {
      "cell_type": "code",
      "source": [
        "print(\"Sine of array1:\", np.sin(array1))"
      ],
      "metadata": {
        "colab": {
          "base_uri": "https://localhost:8080/"
        },
        "id": "zQYxHhMv08fk",
        "outputId": "7b62b511-c128-42aa-b324-231b3656008b"
      },
      "execution_count": 18,
      "outputs": [
        {
          "output_type": "stream",
          "name": "stdout",
          "text": [
            "Sine of array1: [ 0.84147098  0.90929743  0.14112001 -0.7568025  -0.95892427]\n"
          ]
        }
      ]
    },
    {
      "cell_type": "code",
      "source": [
        "print(\"Natural logarithm of array1:\", np.log(array1))"
      ],
      "metadata": {
        "colab": {
          "base_uri": "https://localhost:8080/"
        },
        "id": "heSYH7Wn1HsO",
        "outputId": "be3c9f82-926b-447b-8a0b-448b0349463e"
      },
      "execution_count": 19,
      "outputs": [
        {
          "output_type": "stream",
          "name": "stdout",
          "text": [
            "Natural logarithm of array1: [0.         0.69314718 1.09861229 1.38629436 1.60943791]\n"
          ]
        }
      ]
    },
    {
      "cell_type": "code",
      "source": [
        "print(\"Base-2 logarithm of array1:\", np.log2(array1))"
      ],
      "metadata": {
        "colab": {
          "base_uri": "https://localhost:8080/"
        },
        "id": "HNKRQtPM1QvR",
        "outputId": "e65ea035-66d3-4cef-a855-3571da7a4995"
      },
      "execution_count": 20,
      "outputs": [
        {
          "output_type": "stream",
          "name": "stdout",
          "text": [
            "Base-2 logarithm of array1: [0.         1.         1.5849625  2.         2.32192809]\n"
          ]
        }
      ]
    },
    {
      "cell_type": "code",
      "source": [
        "print(\"Exponential of array1:\", np.exp(array1))"
      ],
      "metadata": {
        "colab": {
          "base_uri": "https://localhost:8080/"
        },
        "id": "YXO4orFV1Hpk",
        "outputId": "637af7e1-3528-4264-fdb3-6b52ab984d03"
      },
      "execution_count": 21,
      "outputs": [
        {
          "output_type": "stream",
          "name": "stdout",
          "text": [
            "Exponential of array1: [  2.71828183   7.3890561   20.08553692  54.59815003 148.4131591 ]\n"
          ]
        }
      ]
    },
    {
      "cell_type": "code",
      "source": [
        "people = ['Kiran', 'Arun', 'Vijay', 'Varun']\n",
        "age = [25, 30, 35, 40]  # Adjusted to match the length\n",
        "height = [145, 151, 165, 173]\n",
        "weight = [45, 55, 65, 75]\n"
      ],
      "metadata": {
        "id": "7CgqgORE2rtH"
      },
      "execution_count": 24,
      "outputs": []
    },
    {
      "cell_type": "code",
      "source": [
        "import matplotlib.pyplot as plt\n",
        "\n",
        "# Scatter Plot - Age vs Weight\n",
        "plt.figure(figsize=(12, 4))\n",
        "plt.subplot(1, 3, 1)\n",
        "plt.scatter(age, weight, color='blue')\n",
        "plt.xlabel('Age')\n",
        "plt.ylabel('Weight')\n",
        "plt.title('Age vs Weight')\n",
        "\n",
        "\n"
      ],
      "metadata": {
        "colab": {
          "base_uri": "https://localhost:8080/",
          "height": 427
        },
        "id": "yk2nI1Ef23Rh",
        "outputId": "35c7a438-de36-415f-8521-7c6e1e4e7c92"
      },
      "execution_count": 25,
      "outputs": [
        {
          "output_type": "execute_result",
          "data": {
            "text/plain": [
              "Text(0.5, 1.0, 'Age vs Weight')"
            ]
          },
          "metadata": {},
          "execution_count": 25
        },
        {
          "output_type": "display_data",
          "data": {
            "text/plain": [
              "<Figure size 1200x400 with 1 Axes>"
            ],
            "image/png": "[encoded data removed]"
          },
          "metadata": {}
        }
      ]
    },
    {
      "cell_type": "code",
      "source": [
        "plt.subplot(1, 3, 2)\n",
        "plt.bar(people, age, color='green')\n",
        "plt.xlabel('People')\n",
        "plt.ylabel('Age')\n",
        "plt.title('Age of Each Person')"
      ],
      "metadata": {
        "colab": {
          "base_uri": "https://localhost:8080/",
          "height": 489
        },
        "id": "I-5eW_Ak3F5X",
        "outputId": "44046e89-34fc-4e08-e0de-d4af8ad445a8"
      },
      "execution_count": 26,
      "outputs": [
        {
          "output_type": "execute_result",
          "data": {
            "text/plain": [
              "Text(0.5, 1.0, 'Age of Each Person')"
            ]
          },
          "metadata": {},
          "execution_count": 26
        },
        {
          "output_type": "display_data",
          "data": {
            "text/plain": [
              "<Figure size 640x480 with 1 Axes>"
            ],
            "image/png": "[encoded data removed]"
          },
          "metadata": {}
        }
      ]
    },
    {
      "cell_type": "code",
      "source": [
        "plt.subplot(1, 3, 2)\n",
        "plt.bar(people, age, color='green')\n",
        "plt.xlabel('People')\n",
        "plt.ylabel('Age')\n",
        "plt.title('Age of Each Person')"
      ],
      "metadata": {
        "colab": {
          "base_uri": "https://localhost:8080/",
          "height": 489
        },
        "id": "y2482ADg3J33",
        "outputId": "42ebedb4-1d0d-4193-8888-eb91c805efab"
      },
      "execution_count": 27,
      "outputs": [
        {
          "output_type": "execute_result",
          "data": {
            "text/plain": [
              "Text(0.5, 1.0, 'Age of Each Person')"
            ]
          },
          "metadata": {},
          "execution_count": 27
        },
        {
          "output_type": "display_data",
          "data": {
            "text/plain": [
              "<Figure size 640x480 with 1 Axes>"
            ],
            "image/png": "[encoded data removed]"
          },
          "metadata": {}
        }
      ]
    },
    {
      "cell_type": "code",
      "source": [
        "import pandas as pd\n",
        "a=pd.read_excel('/content/peopledata.xlsx')\n",
        "print(a)"
      ],
      "metadata": {
        "colab": {
          "base_uri": "https://localhost:8080/"
        },
        "id": "JFDxSQBv5yNj",
        "outputId": "68c63c7d-67c3-4a1e-f020-c5bf0eb2d7bc"
      },
      "execution_count": 29,
      "outputs": [
        {
          "output_type": "stream",
          "name": "stdout",
          "text": [
            "    NAME  AGE  HEIGHT  WEIGHT\n",
            "0  kiran   25     145      45\n",
            "1   Arun   30     151      55\n",
            "2  Vijay   35     165      65\n",
            "3  Varun   40     173      75\n"
          ]
        }
      ]
    },
    {
      "cell_type": "code",
      "source": [
        "import pandas as pd\n",
        "a=pd.read_csv('/content/sample4.csv')\n",
        "print(a)"
      ],
      "metadata": {
        "colab": {
          "base_uri": "https://localhost:8080/"
        },
        "id": "ekXZPnju67KB",
        "outputId": "46b25bf2-3e55-4df2-a9c9-a305aead1917"
      },
      "execution_count": 30,
      "outputs": [
        {
          "output_type": "stream",
          "name": "stdout",
          "text": [
            "     Game Number   \"Game Length\"\n",
            "0              1              30\n",
            "1              2              29\n",
            "2              3              31\n",
            "3              4              16\n",
            "4              5              24\n",
            "..           ...             ...\n",
            "995          996              24\n",
            "996          997              21\n",
            "997          998              47\n",
            "998          999              30\n",
            "999         1000              12\n",
            "\n",
            "[1000 rows x 2 columns]\n"
          ]
        }
      ]
    },
    {
      "cell_type": "code",
      "source": [
        "import pandas as pd\n",
        "a=pd.read_csv('/content/sample-1.tsv')\n",
        "print(a)"
      ],
      "metadata": {
        "colab": {
          "base_uri": "https://localhost:8080/"
        },
        "id": "dcN1cbE_67NG",
        "outputId": "a862ffc9-8da5-4f41-8dc9-dce12ef878eb"
      },
      "execution_count": 32,
      "outputs": [
        {
          "output_type": "stream",
          "name": "stdout",
          "text": [
            "   \\t\\t\\t\\t\\t\\t\\t\\t\\t\\t\\t\\t\\t\\t\\t\\t\\t\\t\\t\\t\\t\\t\\t\\t\\t2022\\tCreate more with themes              Go to  Format  >> Theme\n",
            "0   \\tJANUARY\\t\\t\\t\\t\\t\\t\\t\\tFEBRUARY\\t\\t\\t\\t\\t\\t\\...                                                                  \n",
            "1   \\tS\\tM\\tT\\tW\\tT\\tF\\tS\\t\\tS\\tM\\tT\\tW\\tT\\tF\\tS\\t...                                                                  \n",
            "2   \\t\\t\\t\\t\\t\\t\\t1\\t\\t\\t\\t1\\t2\\t3\\t4\\t5\\t\\t\\t\\t1\\...                                                                  \n",
            "3   \\t2\\t3\\t4\\t5\\t6\\t7\\t8\\t\\t6\\t7\\t8\\t9\\t10\\t11\\t1...                                                                  \n",
            "4   \\t9\\t10\\t11\\t12\\t13\\t14\\t15\\t\\t13\\t14\\t15\\t16\\...                                                                  \n",
            "5   \\t16\\t17\\t18\\t19\\t20\\t21\\t22\\t\\t20\\t21\\t22\\t23...                                                                  \n",
            "6   \\t23\\t24\\t25\\t26\\t27\\t28\\t29\\t\\t27\\t28\\t\\t\\t\\t...                                                                  \n",
            "7   \\t30\\t31\\t\\t\\t\\t\\t\\t\\t\\t\\t\\t\\t\\t\\t\\t\\t\\t\\t\\t\\t...                                                                  \n",
            "8   \\tAPRIL \\t\\t\\t\\t\\t\\t\\t\\tMAY\\t\\t\\t\\t\\t\\t\\t\\tJUN...                                                                  \n",
            "9   \\tS\\tM\\tT\\tW\\tT\\tF\\tS\\t\\tS\\tM\\tT\\tW\\tT\\tF\\tS\\t...                                                                  \n",
            "10  \\t\\t\\t\\t\\t\\t1\\t2\\t\\t1\\t2\\t3\\t4\\t5\\t6\\t7\\t\\t\\t\\...                                                                  \n",
            "11  \\t3\\t4\\t5\\t6\\t7\\t8\\t9\\t\\t8\\t9\\t10\\t11\\t12\\t13\\...                                                                  \n",
            "12  \\t10\\t11\\t12\\t13\\t14\\t15\\t16\\t\\t15\\t16\\t17\\t18...                                                                  \n",
            "13  \\t17\\t18\\t19\\t20\\t21\\t22\\t23\\t\\t22\\t23\\t24\\t25...                                                                  \n",
            "14  \\t24\\t25\\t26\\t27\\t28\\t29\\t30\\t\\t29\\t30\\t31\\t\\t...                                                                  \n",
            "15  \\tJULY\\t\\t\\t\\t\\t\\t\\t\\tAUGUST\\t\\t\\t\\t\\t\\t\\t\\tSE...                                                                  \n",
            "16  \\tS\\tM\\tT\\tW\\tT\\tF\\tS\\t\\tS\\tM\\tT\\tW\\tT\\tF\\tS\\t...                                                                  \n",
            "17  \\t\\t\\t\\t\\t\\t1\\t2\\t\\t\\t1\\t2\\t3\\t4\\t5\\t6\\t\\t\\t\\t...                                                                  \n",
            "18  \\t3\\t4\\t5\\t6\\t7\\t8\\t9\\t\\t7\\t8\\t9\\t10\\t11\\t12\\t...                                                                  \n",
            "19  \\t10\\t11\\t12\\t13\\t14\\t15\\t16\\t\\t14\\t15\\t16\\t17...                                                                  \n",
            "20  \\t17\\t18\\t19\\t20\\t21\\t22\\t23\\t\\t21\\t22\\t23\\t24...                                                                  \n",
            "21  \\t24\\t25\\t26\\t27\\t28\\t29\\t30\\t\\t28\\t29\\t30\\t31...                                                                  \n",
            "22  \\t31\\t\\t\\t\\t\\t\\t\\t\\t\\t\\t\\t\\t\\t\\t\\t\\t\\t\\t\\t\\t\\t...                                                                  \n",
            "23  \\tOCTOBER\\t\\t\\t\\t\\t\\t\\t\\tNOVEMBER\\t\\t\\t\\t\\t\\t\\...                                                                  \n",
            "24  \\tS\\tM\\tT\\tW\\tT\\tF\\tS\\t\\tS\\tM\\tT\\tW\\tT\\tF\\tS\\t...                                                                  \n",
            "25  \\t\\t\\t\\t\\t\\t\\t1\\t\\t\\t\\t1\\t2\\t3\\t4\\t5\\t\\t\\t\\t\\t...                                                                  \n",
            "26  \\t2\\t3\\t4\\t5\\t6\\t7\\t8\\t\\t6\\t7\\t8\\t9\\t10\\t11\\t1...                                                                  \n",
            "27  \\t9\\t10\\t11\\t12\\t13\\t14\\t15\\t\\t13\\t14\\t15\\t16\\...                                                                  \n",
            "28  \\t16\\t17\\t18\\t19\\t20\\t21\\t22\\t\\t20\\t21\\t22\\t23...                                                                  \n",
            "29  \\t23\\t24\\t25\\t26\\t27\\t28\\t29\\t\\t27\\t28\\t29\\t30...                                                                  \n",
            "30  \\t30\\t31\\t\\t\\t\\t\\t\\t\\t\\t\\t\\t\\t\\t\\t\\t\\t\\t\\t\\t\\t...                                                                  \n"
          ]
        }
      ]
    },
    {
      "cell_type": "code",
      "source": [],
      "metadata": {
        "id": "XC1wO_pX67Oj"
      },
      "execution_count": null,
      "outputs": []
    }
  ]
}