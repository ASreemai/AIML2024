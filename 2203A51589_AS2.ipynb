{
  "nbformat": 4,
  "nbformat_minor": 0,
  "metadata": {
    "colab": {
      "provenance": []
    },
    "kernelspec": {
      "name": "python3",
      "display_name": "Python 3"
    },
    "language_info": {
      "name": "python"
    }
  },
  "cells": [
    {
      "cell_type": "code",
      "execution_count": null,
      "metadata": {
        "colab": {
          "base_uri": "https://localhost:8080/"
        },
        "id": "GsCcj58ykFoE",
        "outputId": "6e5ced0c-9024-4ec4-96e8-bd091d759765"
      },
      "outputs": [
        {
          "output_type": "stream",
          "name": "stdout",
          "text": [
            "The adjacency List representing the graph is:\n",
            "{0: [1, 3], 1: [0, 2, 3], 2: [4, 1, 5], 3: [4, 0, 1], 4: [2, 3, 5], 5: [4, 2], 6: []}\n",
            "BFS traversal of graph with source 0 is:\n",
            "0-->1-->3-->2-->4-->5-->"
          ]
        }
      ],
      "source": [
        "from queue import Queue\n",
        "\n",
        "graph = {0: [1, 3], 1: [0, 2, 3], 2: [4, 1, 5], 3: [4, 0, 1], 4: [2, 3, 5], 5: [4, 2], 6: []}\n",
        "print(\"The adjacency List representing the graph is:\")\n",
        "print(graph)\n",
        "\n",
        "\n",
        "def bfs(graph, source):\n",
        "    Q = Queue()\n",
        "    visited_vertices = set()\n",
        "    Q.put(source)\n",
        "    visited_vertices.update({0})\n",
        "    while not Q.empty():\n",
        "        vertex = Q.get()\n",
        "        print(vertex, end=\"-->\")\n",
        "        for u in graph[vertex]:\n",
        "            if u not in visited_vertices:\n",
        "                Q.put(u)\n",
        "                visited_vertices.update({u})\n",
        "\n",
        "print(\"BFS traversal of graph with source 0 is:\")\n",
        "bfs(graph, 0)"
      ]
    },
    {
      "cell_type": "code",
      "source": [
        "\n",
        "import numpy as np\n",
        "\n",
        "def misplaced_tiles(puzzle, goal):\n",
        "\n",
        "    return np.sum(np.where(puzzle != goal, 1, 0)) - 1\n",
        "\n",
        "def get_neighbors(puzzle):\n",
        "\n",
        "    neighbors = []\n",
        "    blank_pos = np.where(puzzle == 0)[0][0]\n",
        "    row, col = divmod(blank_pos, 3)\n",
        "\n",
        "    moves = [(-1, 0), (1, 0), (0, -1), (0, 1)]\n",
        "    for dr, dc in moves:\n",
        "        new_row, new_col = row + dr, col + dc\n",
        "        if 0 <= new_row < 3 and 0 <= new_col < 3:\n",
        "            new_blank_pos = new_row * 3 + new_col\n",
        "            new_puzzle = puzzle.copy()\n",
        "            new_puzzle[blank_pos], new_puzzle[new_blank_pos] = new_puzzle[new_blank_pos], new_puzzle[blank_pos]\n",
        "            neighbors.append(new_puzzle)\n",
        "    return neighbors\n",
        "\n",
        "\n",
        "def a_star_8_puzzle(initial_state, goal_state):\n",
        "\n",
        "    state = [{'puzzle': initial_state, 'parent': None, 'gn': 0, 'hn': misplaced_tiles(initial_state, goal_state)}]\n",
        "    explored = []\n",
        "\n",
        "    while state:\n",
        "\n",
        "        state.sort(key=lambda x: x['gn'] + x['hn'])\n",
        "        current = state.pop(0)\n",
        "        explored.append(current['puzzle'].tobytes())\n",
        "\n",
        "        if np.array_equal(current['puzzle'], goal_state):\n",
        "\n",
        "            return reconstruct_path(current, explored)\n",
        "\n",
        "        for neighbor in get_neighbors(current['puzzle']):\n",
        "            if neighbor.tobytes() not in explored:\n",
        "                gn = current['gn'] + 1\n",
        "                hn = misplaced_tiles(neighbor, goal_state)\n",
        "                state.append({'puzzle': neighbor, 'parent': current, 'gn': gn, 'hn': hn})\n",
        "\n",
        "def reconstruct_path(node, explored):\n",
        "    path = []\n",
        "    while node['parent'] is not None:\n",
        "        path.append(node['puzzle'])\n",
        "        node = node['parent']\n",
        "    path.append(node['puzzle'])\n",
        "    return path[::-1]\n",
        "\n",
        "\n",
        "initial_state = np.array([2, 8, 3, 1, 6, 4, 7, 0, 5])\n",
        "goal_state = np.array([1, 2, 3, 8, 0, 4, 7, 6, 5])\n",
        "\n",
        "solution_path = a_star_8_puzzle(initial_state, goal_state)\n",
        "print(\"Solution Path:\")\n",
        "for step, state in enumerate(solution_path):\n",
        "    print(f\"Step {step}:\\n{state.reshape(3, 3)}\\n\")\n",
        "\n",
        "print(f\"Total moves: {len(solution_path) - 1}\")\n"
      ],
      "metadata": {
        "colab": {
          "base_uri": "https://localhost:8080/"
        },
        "id": "Be7fK7GK5epW",
        "outputId": "f9b5c766-fcda-4c41-81aa-5b6577bfbd22"
      },
      "execution_count": 3,
      "outputs": [
        {
          "output_type": "stream",
          "name": "stdout",
          "text": [
            "Solution Path:\n",
            "Step 0:\n",
            "[[2 8 3]\n",
            " [1 6 4]\n",
            " [7 0 5]]\n",
            "\n",
            "Step 1:\n",
            "[[2 8 3]\n",
            " [1 0 4]\n",
            " [7 6 5]]\n",
            "\n",
            "Step 2:\n",
            "[[2 0 3]\n",
            " [1 8 4]\n",
            " [7 6 5]]\n",
            "\n",
            "Step 3:\n",
            "[[0 2 3]\n",
            " [1 8 4]\n",
            " [7 6 5]]\n",
            "\n",
            "Step 4:\n",
            "[[1 2 3]\n",
            " [0 8 4]\n",
            " [7 6 5]]\n",
            "\n",
            "Step 5:\n",
            "[[1 2 3]\n",
            " [8 0 4]\n",
            " [7 6 5]]\n",
            "\n",
            "Total moves: 5\n"
          ]
        }
      ]
    },
    {
      "cell_type": "code",
      "source": [],
      "metadata": {
        "id": "1QToSHqfl3iL"
      },
      "execution_count": null,
      "outputs": []
    },
    {
      "cell_type": "code",
      "source": [
        "graph1 = {\n",
        "    'A' : ['B','S'],\n",
        "    'B' : ['A'],\n",
        "    'C' : ['D','E','F','S'],\n",
        "    'D' : ['C'],\n",
        "    'E' : ['C','H'],\n",
        "    'F' : ['C','G'],\n",
        "    'G' : ['F','S'],\n",
        "    'H' : ['E','G'],\n",
        "    'S' : ['A','C','G']\n",
        "}\n",
        "\n",
        "def dfs(graph, node, visited):\n",
        "    if node not in visited:\n",
        "        visited.append(node)\n",
        "        for k in graph[node]:\n",
        "            dfs(graph,k, visited)\n",
        "    return visited\n",
        "\n",
        "visited = dfs(graph1,'D', [])\n",
        "print(visited)"
      ],
      "metadata": {
        "id": "L3fYMjc-lA2m",
        "outputId": "fb582166-0dd7-4395-9e86-09ae2d26b7ac",
        "colab": {
          "base_uri": "https://localhost:8080/"
        }
      },
      "execution_count": null,
      "outputs": [
        {
          "output_type": "stream",
          "name": "stdout",
          "text": [
            "['D', 'C', 'E', 'H', 'G', 'F', 'S', 'A', 'B']\n"
          ]
        }
      ]
    }
  ]
}